{
  "cells": [
    {
      "cell_type": "markdown",
      "metadata": {
        "id": "view-in-github",
        "colab_type": "text"
      },
      "source": [
        "<a href=\"https://colab.research.google.com/github/shengpu-tang/CS334-demo/blob/main/RNN_Sine_Wave.ipynb\" target=\"_parent\"><img src=\"https://colab.research.google.com/assets/colab-badge.svg\" alt=\"Open In Colab\"/></a>"
      ]
    },
    {
      "cell_type": "markdown",
      "metadata": {
        "id": "fmR-m6DGyf6M"
      },
      "source": [
        "# Sample Code: Train an RNN to predict the sine wave\n",
        "\n",
        "Example of sequence prediction using Recurrent Neural Net with LSTM cell\n",
        "\n",
        "Reference: https://github.com/pytorch/examples/tree/master/time_sequence_prediction"
      ]
    },
    {
      "cell_type": "code",
      "execution_count": null,
      "metadata": {
        "id": "iJa2Dl_LUFqE"
      },
      "outputs": [],
      "source": [
        "%config InlineBackend.figure_format = 'svg'"
      ]
    },
    {
      "cell_type": "code",
      "execution_count": null,
      "metadata": {
        "id": "R0BiYPlkQakT"
      },
      "outputs": [],
      "source": [
        "# GPU support\n",
        "import torch\n",
        "device = torch.device('cuda' if torch.cuda.is_available() else 'cpu')\n",
        "print('using device:', device)"
      ]
    },
    {
      "cell_type": "code",
      "execution_count": null,
      "metadata": {
        "id": "Q3KDTSx0RVPE"
      },
      "outputs": [],
      "source": [
        "import numpy as np\n",
        "import os\n",
        "import scipy\n",
        "import time\n",
        "\n",
        "import torch\n",
        "import torch.nn as nn\n",
        "import torch.optim as optim\n",
        "\n",
        "from matplotlib import pyplot as plt"
      ]
    },
    {
      "cell_type": "code",
      "execution_count": null,
      "metadata": {
        "id": "6Ko7hDYyRDid"
      },
      "outputs": [],
      "source": [
        "# Generate synthetic data using sine wave\n",
        "import numpy as np\n",
        "np.random.seed(2)\n",
        "T_ = 20\n",
        "L = 1000\n",
        "N = 100\n",
        "t = np.empty((N, L), 'int64')\n",
        "t[:] = np.arange(L) + np.random.randint(-4*T_, 4*T_, N).reshape(N, 1)\n",
        "x = np.sin(t / 1.0 / T_).reshape(N, L, 1)"
      ]
    },
    {
      "cell_type": "code",
      "execution_count": null,
      "metadata": {
        "id": "wQC24ncERSgH"
      },
      "outputs": [],
      "source": [
        "# Show two examples of our data\n",
        "fig = plt.figure(figsize=(10,5))\n",
        "plt.plot(x[0], 'b', label='$\\\\vec{x}^{(1)}$')\n",
        "plt.plot(x[3], 'r', label='$\\\\vec{x}^{(4)}$')\n",
        "plt.title('Training examples')\n",
        "plt.xlabel('t')\n",
        "plt.ylabel('$x_t$')\n",
        "plt.legend()\n",
        "plt.show()"
      ]
    },
    {
      "cell_type": "code",
      "execution_count": null,
      "metadata": {
        "id": "QZehT_pPSfhw"
      },
      "outputs": [],
      "source": [
        "# Note the dimension of x\n",
        "print(x.shape)\n",
        "N, L, d = x.shape"
      ]
    },
    {
      "cell_type": "code",
      "execution_count": null,
      "metadata": {
        "id": "0T13adnKRlbT"
      },
      "outputs": [],
      "source": [
        "import torch\n",
        "import torch.nn as nn\n",
        "\n",
        "class RNN(nn.Module):\n",
        "    def __init__(self):\n",
        "        super().__init__()\n",
        "        self.lstm1 = nn.LSTMCell(1, 51)\n",
        "        self.lstm2 = nn.LSTMCell(51, 51)\n",
        "        self.linear = nn.Linear(51, 1)\n",
        "\n",
        "    def forward(self, x, future=0):\n",
        "        N, T, d = x.shape\n",
        "\n",
        "        outputs = []\n",
        "        h1_t, c1_t, h2_t, c2_t = self.init_hidden(x)\n",
        "        for t in range(T):\n",
        "            h1_t, c1_t = self.lstm1(x[:,t,:], (h1_t, c1_t))\n",
        "            h2_t, c2_t = self.lstm2(h1_t, (h2_t, c2_t))\n",
        "            output = self.linear(h2_t)\n",
        "            outputs += [output]\n",
        "\n",
        "        # if we should predict the future\n",
        "        for t in range(future):\n",
        "            h1_t, c1_t = self.lstm1(output, (h1_t, c1_t))\n",
        "            h2_t, c2_t = self.lstm2(h1_t, (h2_t, c2_t))\n",
        "            output = self.linear(h2_t)\n",
        "            outputs += [output]\n",
        "\n",
        "        outputs = torch.stack(outputs, 1)\n",
        "        return outputs\n",
        "\n",
        "    def init_hidden(self, x):\n",
        "        input_size = x.size(0)\n",
        "        h1_t = torch.zeros(input_size, 51).float().to(x.device)\n",
        "        c1_t = torch.zeros(input_size, 51).float().to(x.device)\n",
        "        h2_t = torch.zeros(input_size, 51).float().to(x.device)\n",
        "        c2_t = torch.zeros(input_size, 51).float().to(x.device)\n",
        "        return h1_t, c1_t, h2_t, c2_t"
      ]
    },
    {
      "cell_type": "code",
      "execution_count": null,
      "metadata": {
        "id": "gsnND1FEUOKy"
      },
      "outputs": [],
      "source": [
        "# set random seed to 0\n",
        "np.random.seed(0)\n",
        "torch.manual_seed(0)\n",
        "\n",
        "# load data and make training set\n",
        "train_x = torch.from_numpy(x[3:, :-1]).float().to(device)\n",
        "train_y = torch.from_numpy(x[3:, 1:]).float().to(device)\n",
        "test_x  = torch.from_numpy(x[:3, :-1]).float().to(device)\n",
        "test_y  = torch.from_numpy(x[:3, 1:]).float().to(device)\n",
        "\n",
        "# build the model\n",
        "net = RNN().to(device)\n",
        "criterion = nn.MSELoss()\n",
        "\n",
        "# use LBFGS as optimizer since we can load the whole data to train\n",
        "optimizer = optim.LBFGS(net.parameters(), lr=0.8)\n",
        "\n",
        "# begin to train\n",
        "for i in range(10):\n",
        "    print('STEP: ', i)\n",
        "    def closure():\n",
        "        optimizer.zero_grad()\n",
        "        out = net(train_x)\n",
        "        loss = criterion(out, train_y)\n",
        "        print('loss:', loss.detach().cpu().item())\n",
        "        loss.backward()\n",
        "        return loss\n",
        "    optimizer.step(closure)\n",
        "\n",
        "    # begin to predict, no need to track gradient here\n",
        "    with torch.no_grad():\n",
        "        future = 1000\n",
        "        pred = net(test_x, future=future)\n",
        "        loss = criterion(pred[:, :-future], test_y)\n",
        "        print('test loss:', loss.item())\n",
        "        y = pred.detach().cpu().numpy()\n",
        "\n",
        "    # draw the result\n",
        "    plt.figure(figsize=(10,5))\n",
        "    plt.title('Predict future values for time sequences\\n(Dashlines are predicted values)')\n",
        "    plt.xlabel('x')\n",
        "    plt.ylabel('y')\n",
        "    plt.xticks()\n",
        "    plt.yticks()\n",
        "    def draw(yi, color):\n",
        "        plt.plot(np.arange(train_x.size(1)), yi[:train_x.size(1)], color, linewidth = 2.0)\n",
        "        plt.plot(np.arange(train_x.size(1), train_x.size(1) + future), yi[train_x.size(1):], color + ':', linewidth = 2.0)\n",
        "    draw(y[0], 'r')\n",
        "    draw(y[1], 'g')\n",
        "    draw(y[2], 'b')\n",
        "    plt.show()"
      ]
    },
    {
      "cell_type": "code",
      "execution_count": null,
      "metadata": {
        "id": "iGnE8MPlQgRU"
      },
      "outputs": [],
      "source": []
    }
  ],
  "metadata": {
    "accelerator": "GPU",
    "colab": {
      "provenance": [],
      "private_outputs": true,
      "gpuType": "T4",
      "include_colab_link": true
    },
    "kernelspec": {
      "display_name": "Python 3",
      "name": "python3"
    },
    "language_info": {
      "codemirror_mode": {
        "name": "ipython",
        "version": 3
      },
      "file_extension": ".py",
      "mimetype": "text/x-python",
      "name": "python",
      "nbconvert_exporter": "python",
      "pygments_lexer": "ipython3",
      "version": "3.7.3"
    }
  },
  "nbformat": 4,
  "nbformat_minor": 0
}